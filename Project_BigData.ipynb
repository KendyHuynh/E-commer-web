{
  "nbformat": 4,
  "nbformat_minor": 0,
  "metadata": {
    "colab": {
      "provenance": [],
      "authorship_tag": "ABX9TyOM8hlatYbwvycU9miqsZgJ",
      "include_colab_link": true
    },
    "kernelspec": {
      "name": "python3",
      "display_name": "Python 3"
    },
    "language_info": {
      "name": "python"
    },
    "accelerator": "TPU"
  },
  "cells": [
    {
      "cell_type": "markdown",
      "metadata": {
        "id": "view-in-github",
        "colab_type": "text"
      },
      "source": [
        "<a href=\"https://colab.research.google.com/github/KendyHuynh/E-commer-web/blob/main/Project_BigData.ipynb\" target=\"_parent\"><img src=\"https://colab.research.google.com/assets/colab-badge.svg\" alt=\"Open In Colab\"/></a>"
      ]
    },
    {
      "cell_type": "code",
      "execution_count": null,
      "metadata": {
        "colab": {
          "base_uri": "https://localhost:8080/"
        },
        "id": "-fMbTFM7d54_",
        "outputId": "d248e767-82de-4601-8eb8-6b3435a4af21"
      },
      "outputs": [
        {
          "output_type": "stream",
          "name": "stdout",
          "text": [
            "Mounted at /content/drive\n"
          ]
        }
      ],
      "source": [
        "from google.colab import drive\n",
        "drive.mount(\"/content/drive\", force_remount=True)"
      ]
    },
    {
      "cell_type": "code",
      "source": [
        "# Cài đặt PySpark\n",
        "!pip install pyspark"
      ],
      "metadata": {
        "colab": {
          "base_uri": "https://localhost:8080/"
        },
        "id": "HkX0THQzeAXH",
        "outputId": "e110adfa-507a-47f2-ef09-2818b7f8d4e5"
      },
      "execution_count": null,
      "outputs": [
        {
          "output_type": "stream",
          "name": "stdout",
          "text": [
            "Collecting pyspark\n",
            "  Downloading pyspark-3.5.1.tar.gz (317.0 MB)\n",
            "\u001b[2K     \u001b[90m━━━━━━━━━━━━━━━━━━━━━━━━━━━━━━━━━━━━━━━━\u001b[0m \u001b[32m317.0/317.0 MB\u001b[0m \u001b[31m2.0 MB/s\u001b[0m eta \u001b[36m0:00:00\u001b[0m\n",
            "\u001b[?25h  Preparing metadata (setup.py) ... \u001b[?25l\u001b[?25hdone\n",
            "Requirement already satisfied: py4j==0.10.9.7 in /usr/local/lib/python3.10/dist-packages (from pyspark) (0.10.9.7)\n",
            "Building wheels for collected packages: pyspark\n",
            "  Building wheel for pyspark (setup.py) ... \u001b[?25l\u001b[?25hdone\n",
            "  Created wheel for pyspark: filename=pyspark-3.5.1-py2.py3-none-any.whl size=317488491 sha256=55604e4a8219848c67c48421a49677238741fc7de3c060160db756c6cdbf7919\n",
            "  Stored in directory: /root/.cache/pip/wheels/80/1d/60/2c256ed38dddce2fdd93be545214a63e02fbd8d74fb0b7f3a6\n",
            "Successfully built pyspark\n",
            "Installing collected packages: pyspark\n",
            "Successfully installed pyspark-3.5.1\n"
          ]
        }
      ]
    },
    {
      "cell_type": "markdown",
      "metadata": {
        "id": "jHAuSJX9agze"
      },
      "source": [
        "# Khởi tạo SparkSession và đọc dữ liệu từ tập tin log:\n",
        "\n",
        "Sử dụng SparkSession để khởi tạo một phiên làm việc Spark.\n",
        "\n",
        "Sử dụng phương thức read.text() để đọc dữ liệu từ tập tin log vào một DataFrame."
      ]
    },
    {
      "cell_type": "code",
      "execution_count": null,
      "metadata": {
        "colab": {
          "base_uri": "https://localhost:8080/"
        },
        "id": "X1gIn9GdNGDb",
        "outputId": "9d8708a8-98ff-47af-b9b0-b6beef426995"
      },
      "outputs": [
        {
          "output_type": "stream",
          "name": "stdout",
          "text": [
            "root\n",
            " |-- value: string (nullable = true)\n",
            "\n",
            "+---------------------------------------------------------------------------------------------------------------------------------------------------------------------------------------------------------------------------------------------------------------------------------------------------------------------------------------------------------------------------------------------------------------------------------------------------------------------------------------------------------------------------------------------------+\n",
            "|value                                                                                                                                                                                                                                                                                                                                                                                                                                                                                                                                              |\n",
            "+---------------------------------------------------------------------------------------------------------------------------------------------------------------------------------------------------------------------------------------------------------------------------------------------------------------------------------------------------------------------------------------------------------------------------------------------------------------------------------------------------------------------------------------------------+\n",
            "|54.36.149.41 - - [22/Jan/2019:03:56:14 +0330] \"GET /filter/27|13%20%D9%85%DA%AF%D8%A7%D9%BE%DB%8C%DA%A9%D8%B3%D9%84,27|%DA%A9%D9%85%D8%AA%D8%B1%20%D8%A7%D8%B2%205%20%D9%85%DA%AF%D8%A7%D9%BE%DB%8C%DA%A9%D8%B3%D9%84,p53 HTTP/1.1\" 200 30577 \"-\" \"Mozilla/5.0 (compatible; AhrefsBot/6.1; +http://ahrefs.com/robot/)\" \"-\"                                                                                                                                                                                                                         |\n",
            "|31.56.96.51 - - [22/Jan/2019:03:56:16 +0330] \"GET /image/60844/productModel/200x200 HTTP/1.1\" 200 5667 \"https://www.zanbil.ir/m/filter/b113\" \"Mozilla/5.0 (Linux; Android 6.0; ALE-L21 Build/HuaweiALE-L21) AppleWebKit/537.36 (KHTML, like Gecko) Chrome/66.0.3359.158 Mobile Safari/537.36\" \"-\"                                                                                                                                                                                                                                                  |\n",
            "|31.56.96.51 - - [22/Jan/2019:03:56:16 +0330] \"GET /image/61474/productModel/200x200 HTTP/1.1\" 200 5379 \"https://www.zanbil.ir/m/filter/b113\" \"Mozilla/5.0 (Linux; Android 6.0; ALE-L21 Build/HuaweiALE-L21) AppleWebKit/537.36 (KHTML, like Gecko) Chrome/66.0.3359.158 Mobile Safari/537.36\" \"-\"                                                                                                                                                                                                                                                  |\n",
            "|40.77.167.129 - - [22/Jan/2019:03:56:17 +0330] \"GET /image/14925/productModel/100x100 HTTP/1.1\" 200 1696 \"-\" \"Mozilla/5.0 (compatible; bingbot/2.0; +http://www.bing.com/bingbot.htm)\" \"-\"                                                                                                                                                                                                                                                                                                                                                         |\n",
            "|91.99.72.15 - - [22/Jan/2019:03:56:17 +0330] \"GET /product/31893/62100/%D8%B3%D8%B4%D9%88%D8%A7%D8%B1-%D8%AE%D8%A7%D9%86%DA%AF%DB%8C-%D9%BE%D8%B1%D9%86%D8%B3%D9%84%DB%8C-%D9%85%D8%AF%D9%84-PR257AT HTTP/1.1\" 200 41483 \"-\" \"Mozilla/5.0 (Windows NT 6.2; Win64; x64; rv:16.0)Gecko/16.0 Firefox/16.0\" \"-\"                                                                                                                                                                                                                                        |\n",
            "|40.77.167.129 - - [22/Jan/2019:03:56:17 +0330] \"GET /image/23488/productModel/150x150 HTTP/1.1\" 200 2654 \"-\" \"Mozilla/5.0 (compatible; bingbot/2.0; +http://www.bing.com/bingbot.htm)\" \"-\"                                                                                                                                                                                                                                                                                                                                                         |\n",
            "|40.77.167.129 - - [22/Jan/2019:03:56:18 +0330] \"GET /image/45437/productModel/150x150 HTTP/1.1\" 200 3688 \"-\" \"Mozilla/5.0 (compatible; bingbot/2.0; +http://www.bing.com/bingbot.htm)\" \"-\"                                                                                                                                                                                                                                                                                                                                                         |\n",
            "|40.77.167.129 - - [22/Jan/2019:03:56:18 +0330] \"GET /image/576/article/100x100 HTTP/1.1\" 200 14776 \"-\" \"Mozilla/5.0 (compatible; bingbot/2.0; +http://www.bing.com/bingbot.htm)\" \"-\"                                                                                                                                                                                                                                                                                                                                                               |\n",
            "|66.249.66.194 - - [22/Jan/2019:03:56:18 +0330] \"GET /filter/b41,b665,c150%7C%D8%A8%D8%AE%D8%A7%D8%B1%D9%BE%D8%B2,p56 HTTP/1.1\" 200 34277 \"-\" \"Mozilla/5.0 (compatible; Googlebot/2.1; +http://www.google.com/bot.html)\" \"-\"                                                                                                                                                                                                                                                                                                                        |\n",
            "|40.77.167.129 - - [22/Jan/2019:03:56:18 +0330] \"GET /image/57710/productModel/100x100 HTTP/1.1\" 200 1695 \"-\" \"Mozilla/5.0 (compatible; bingbot/2.0; +http://www.bing.com/bingbot.htm)\" \"-\"                                                                                                                                                                                                                                                                                                                                                         |\n",
            "|207.46.13.136 - - [22/Jan/2019:03:56:18 +0330] \"GET /product/10214 HTTP/1.1\" 200 39677 \"-\" \"Mozilla/5.0 (compatible; bingbot/2.0; +http://www.bing.com/bingbot.htm)\" \"-\"                                                                                                                                                                                                                                                                                                                                                                           |\n",
            "|40.77.167.129 - - [22/Jan/2019:03:56:19 +0330] \"GET /image/578/article/100x100 HTTP/1.1\" 200 9831 \"-\" \"Mozilla/5.0 (compatible; bingbot/2.0; +http://www.bing.com/bingbot.htm)\" \"-\"                                                                                                                                                                                                                                                                                                                                                                |\n",
            "|178.253.33.51 - - [22/Jan/2019:03:56:19 +0330] \"GET /m/product/32574/62991/%D9%85%D8%A7%D8%B4%DB%8C%D9%86-%D8%A7%D8%B5%D9%84%D8%A7%D8%AD-%D8%B5%D9%88%D8%B1%D8%AA-%D9%BE%D8%B1%D9%86%D8%B3%D9%84%DB%8C-%D9%85%D8%AF%D9%84-PR465AT HTTP/1.1\" 200 20406 \"https://www.zanbil.ir/m/filter/p5767%2Ct156?name=%D9%85%D8%A7%D8%B4%DB%8C%D9%86-%D8%A7%D8%B5%D9%84%D8%A7%D8%AD&productType=electric-shavers\" \"Mozilla/5.0 (Linux; Android 5.1; HTC Desire 728 dual sim) AppleWebKit/537.36 (KHTML, like Gecko) Chrome/71.0.3578.83 Mobile Safari/537.36\" \"-\"|\n",
            "|40.77.167.129 - - [22/Jan/2019:03:56:19 +0330] \"GET /image/6229/productModel/100x100 HTTP/1.1\" 200 1796 \"-\" \"Mozilla/5.0 (compatible; bingbot/2.0; +http://www.bing.com/bingbot.htm)\" \"-\"                                                                                                                                                                                                                                                                                                                                                          |\n",
            "|91.99.72.15 - - [22/Jan/2019:03:56:19 +0330] \"GET /product/10075/13903/%D9%85%D8%A7%DB%8C%DA%A9%D8%B1%D9%88%D9%81%D8%B1-%D8%B1%D9%88%D9%85%DB%8C%D8%B2%DB%8C-%D8%B3%D8%A7%D9%85%D8%B3%D9%88%D9%86%DA%AF-%D9%85%D8%AF%D9%84-CE288 HTTP/1.1\" 200 41725 \"-\" \"Mozilla/5.0 (X11; Linux x86_64) AppleWebKit/537.36 (KHTML, like Gecko) Chrome/53.0.2785.92 Safari/537.36\" \"-\"                                                                                                                                                                            |\n",
            "|40.77.167.129 - - [22/Jan/2019:03:56:19 +0330] \"GET /image/6229/productModel/150x150 HTTP/1.1\" 200 2739 \"-\" \"Mozilla/5.0 (compatible; bingbot/2.0; +http://www.bing.com/bingbot.htm)\" \"-\"                                                                                                                                                                                                                                                                                                                                                          |\n",
            "|207.46.13.136 - - [22/Jan/2019:03:56:19 +0330] \"GET /product/14926 HTTP/1.1\" 404 33617 \"-\" \"Mozilla/5.0 (compatible; bingbot/2.0; +http://www.bing.com/bingbot.htm)\" \"-\"                                                                                                                                                                                                                                                                                                                                                                           |\n",
            "|40.77.167.129 - - [22/Jan/2019:03:56:19 +0330] \"GET /image/6248/productModel/150x150 HTTP/1.1\" 200 2788 \"-\" \"Mozilla/5.0 (compatible; bingbot/2.0; +http://www.bing.com/bingbot.htm)\" \"-\"                                                                                                                                                                                                                                                                                                                                                          |\n",
            "|40.77.167.129 - - [22/Jan/2019:03:56:20 +0330] \"GET /image/64815/productModel/150x150 HTTP/1.1\" 200 3481 \"-\" \"Mozilla/5.0 (compatible; bingbot/2.0; +http://www.bing.com/bingbot.htm)\" \"-\"                                                                                                                                                                                                                                                                                                                                                         |\n",
            "|66.249.66.194 - - [22/Jan/2019:03:56:20 +0330] \"GET /m/filter/b2,p6 HTTP/1.1\" 200 19451 \"-\" \"Mozilla/5.0 (Linux; Android 6.0.1; Nexus 5X Build/MMB29P) AppleWebKit/537.36 (KHTML, like Gecko) Chrome/41.0.2272.96 Mobile Safari/537.36 (compatible; Googlebot/2.1; +http://www.google.com/bot.html)\" \"-\"                                                                                                                                                                                                                                           |\n",
            "+---------------------------------------------------------------------------------------------------------------------------------------------------------------------------------------------------------------------------------------------------------------------------------------------------------------------------------------------------------------------------------------------------------------------------------------------------------------------------------------------------------------------------------------------------+\n",
            "only showing top 20 rows\n",
            "\n"
          ]
        }
      ],
      "source": [
        "from pyspark.sql import SparkSession\n",
        "\n",
        "# Khởi tạo SparkSession\n",
        "spark = SparkSession.builder \\\n",
        "    .appName(\"readdatalog\") \\\n",
        "    .getOrCreate()\n",
        "\n",
        "# Đường dẫn đến tập tin log\n",
        "log_file_path = \"/content/drive/MyDrive/Colab Notebooks/Dữ liệu lớn/Đồ án/Datalog/access.log\"\n",
        "\n",
        "# Đọc dữ liệu log từ tập tin\n",
        "log_data = spark.read.text(log_file_path)\n",
        "\n",
        "# Hiển thị schema của DataFrame\n",
        "log_data.printSchema()\n",
        "\n",
        "# Hiển thị 20 dòng đầu tiên của DataFrame\n",
        "log_data.show(20, truncate=False)\n",
        "\n",
        "# Đóng SparkSession\n",
        "spark.stop()\n",
        "\n"
      ]
    },
    {
      "cell_type": "markdown",
      "source": [
        "**Nhìn vào dữ liệu log đọc được ta thấy rằng có các thông tin như sau:**\n",
        "\n",
        "1. IP_Address (31.56.96.51)\n",
        "\n",
        "2. TimeStamp ([22/Jan/2019...])\n",
        "\n",
        "3. Request_HTTP (\"GET /image/60844/productModel/...\")\n",
        "\n",
        "4. Status_Code (200)\n",
        "\n",
        "5. Response_Size (5667)\n",
        "\n",
        "6. Referrer (\"https://www.zanbil.ir/...\")\n",
        "\n",
        "7. User_Agent (\"Mozilla/5.0 (Linux; Android 6.0...\")\n",
        "\n",
        "8. Additional_Info (\"-\")"
      ],
      "metadata": {
        "id": "vghxw5NKydbY"
      }
    },
    {
      "cell_type": "markdown",
      "metadata": {
        "id": "Cz9f1VY8bLIi"
      },
      "source": [
        "#Phân tích log và tạo DataFrame mới:\n",
        "\n",
        "Sử dụng biểu thức chính quy để trích xuất thông tin từ dòng log, bao gồm địa chỉ IP, thời gian, yêu cầu, mã trạng thái, kích thước phản hồi, referrer, user agent và thông tin bổ sung.\n",
        "\n",
        "Sử dụng regexp_extract() để áp dụng biểu thức chính quy và tạo các cột mới trong DataFrame."
      ]
    },
    {
      "cell_type": "code",
      "execution_count": null,
      "metadata": {
        "colab": {
          "base_uri": "https://localhost:8080/"
        },
        "id": "ZfKznkw9UhC8",
        "outputId": "31762412-3234-4dba-d135-a0e06a4a09d8"
      },
      "outputs": [
        {
          "output_type": "stream",
          "name": "stdout",
          "text": [
            "+-------------+--------------------------+-------------------------------------------------------------------------------------------------------------------------------------------------------------------------------------------------------------+-----------+-------------+---------------------------------------------------------------------------------------------------------------------------------------------------------------------------------------------------------------------+------------------------------------------------------------------------------------------------------------------------------------------------------------------------------------------------------+---------------+\n",
            "|ip_address   |timestamp                 |request                                                                                                                                                                                                      |status_code|response_size|referrer                                                                                                                                                                                                             |user_agent                                                                                                                                                                                            |additional_info|\n",
            "+-------------+--------------------------+-------------------------------------------------------------------------------------------------------------------------------------------------------------------------------------------------------------+-----------+-------------+---------------------------------------------------------------------------------------------------------------------------------------------------------------------------------------------------------------------+------------------------------------------------------------------------------------------------------------------------------------------------------------------------------------------------------+---------------+\n",
            "|54.36.149.41 |22/Jan/2019:03:56:14 +0330|GET /filter/27|13%20%D9%85%DA%AF%D8%A7%D9%BE%DB%8C%DA%A9%D8%B3%D9%84,27|%DA%A9%D9%85%D8%AA%D8%B1%20%D8%A7%D8%B2%205%20%D9%85%DA%AF%D8%A7%D9%BE%DB%8C%DA%A9%D8%B3%D9%84,p53 HTTP/1.1                          |200        |30577        |-                                                                                                                                                                                                                    |Mozilla/5.0 (compatible; AhrefsBot/6.1; +http://ahrefs.com/robot/)                                                                                                                                    |-              |\n",
            "|31.56.96.51  |22/Jan/2019:03:56:16 +0330|GET /image/60844/productModel/200x200 HTTP/1.1                                                                                                                                                               |200        |5667         |https://www.zanbil.ir/m/filter/b113                                                                                                                                                                                  |Mozilla/5.0 (Linux; Android 6.0; ALE-L21 Build/HuaweiALE-L21) AppleWebKit/537.36 (KHTML, like Gecko) Chrome/66.0.3359.158 Mobile Safari/537.36                                                        |-              |\n",
            "|31.56.96.51  |22/Jan/2019:03:56:16 +0330|GET /image/61474/productModel/200x200 HTTP/1.1                                                                                                                                                               |200        |5379         |https://www.zanbil.ir/m/filter/b113                                                                                                                                                                                  |Mozilla/5.0 (Linux; Android 6.0; ALE-L21 Build/HuaweiALE-L21) AppleWebKit/537.36 (KHTML, like Gecko) Chrome/66.0.3359.158 Mobile Safari/537.36                                                        |-              |\n",
            "|40.77.167.129|22/Jan/2019:03:56:17 +0330|GET /image/14925/productModel/100x100 HTTP/1.1                                                                                                                                                               |200        |1696         |-                                                                                                                                                                                                                    |Mozilla/5.0 (compatible; bingbot/2.0; +http://www.bing.com/bingbot.htm)                                                                                                                               |-              |\n",
            "|91.99.72.15  |22/Jan/2019:03:56:17 +0330|GET /product/31893/62100/%D8%B3%D8%B4%D9%88%D8%A7%D8%B1-%D8%AE%D8%A7%D9%86%DA%AF%DB%8C-%D9%BE%D8%B1%D9%86%D8%B3%D9%84%DB%8C-%D9%85%D8%AF%D9%84-PR257AT HTTP/1.1                                              |200        |41483        |-                                                                                                                                                                                                                    |Mozilla/5.0 (Windows NT 6.2; Win64; x64; rv:16.0)Gecko/16.0 Firefox/16.0                                                                                                                              |-              |\n",
            "|40.77.167.129|22/Jan/2019:03:56:17 +0330|GET /image/23488/productModel/150x150 HTTP/1.1                                                                                                                                                               |200        |2654         |-                                                                                                                                                                                                                    |Mozilla/5.0 (compatible; bingbot/2.0; +http://www.bing.com/bingbot.htm)                                                                                                                               |-              |\n",
            "|40.77.167.129|22/Jan/2019:03:56:18 +0330|GET /image/45437/productModel/150x150 HTTP/1.1                                                                                                                                                               |200        |3688         |-                                                                                                                                                                                                                    |Mozilla/5.0 (compatible; bingbot/2.0; +http://www.bing.com/bingbot.htm)                                                                                                                               |-              |\n",
            "|40.77.167.129|22/Jan/2019:03:56:18 +0330|GET /image/576/article/100x100 HTTP/1.1                                                                                                                                                                      |200        |14776        |-                                                                                                                                                                                                                    |Mozilla/5.0 (compatible; bingbot/2.0; +http://www.bing.com/bingbot.htm)                                                                                                                               |-              |\n",
            "|66.249.66.194|22/Jan/2019:03:56:18 +0330|GET /filter/b41,b665,c150%7C%D8%A8%D8%AE%D8%A7%D8%B1%D9%BE%D8%B2,p56 HTTP/1.1                                                                                                                                |200        |34277        |-                                                                                                                                                                                                                    |Mozilla/5.0 (compatible; Googlebot/2.1; +http://www.google.com/bot.html)                                                                                                                              |-              |\n",
            "|40.77.167.129|22/Jan/2019:03:56:18 +0330|GET /image/57710/productModel/100x100 HTTP/1.1                                                                                                                                                               |200        |1695         |-                                                                                                                                                                                                                    |Mozilla/5.0 (compatible; bingbot/2.0; +http://www.bing.com/bingbot.htm)                                                                                                                               |-              |\n",
            "|207.46.13.136|22/Jan/2019:03:56:18 +0330|GET /product/10214 HTTP/1.1                                                                                                                                                                                  |200        |39677        |-                                                                                                                                                                                                                    |Mozilla/5.0 (compatible; bingbot/2.0; +http://www.bing.com/bingbot.htm)                                                                                                                               |-              |\n",
            "|40.77.167.129|22/Jan/2019:03:56:19 +0330|GET /image/578/article/100x100 HTTP/1.1                                                                                                                                                                      |200        |9831         |-                                                                                                                                                                                                                    |Mozilla/5.0 (compatible; bingbot/2.0; +http://www.bing.com/bingbot.htm)                                                                                                                               |-              |\n",
            "|178.253.33.51|22/Jan/2019:03:56:19 +0330|GET /m/product/32574/62991/%D9%85%D8%A7%D8%B4%DB%8C%D9%86-%D8%A7%D8%B5%D9%84%D8%A7%D8%AD-%D8%B5%D9%88%D8%B1%D8%AA-%D9%BE%D8%B1%D9%86%D8%B3%D9%84%DB%8C-%D9%85%D8%AF%D9%84-PR465AT HTTP/1.1                   |200        |20406        |https://www.zanbil.ir/m/filter/p5767%2Ct156?name=%D9%85%D8%A7%D8%B4%DB%8C%D9%86-%D8%A7%D8%B5%D9%84%D8%A7%D8%AD&productType=electric-shavers                                                                          |Mozilla/5.0 (Linux; Android 5.1; HTC Desire 728 dual sim) AppleWebKit/537.36 (KHTML, like Gecko) Chrome/71.0.3578.83 Mobile Safari/537.36                                                             |-              |\n",
            "|40.77.167.129|22/Jan/2019:03:56:19 +0330|GET /image/6229/productModel/100x100 HTTP/1.1                                                                                                                                                                |200        |1796         |-                                                                                                                                                                                                                    |Mozilla/5.0 (compatible; bingbot/2.0; +http://www.bing.com/bingbot.htm)                                                                                                                               |-              |\n",
            "|91.99.72.15  |22/Jan/2019:03:56:19 +0330|GET /product/10075/13903/%D9%85%D8%A7%DB%8C%DA%A9%D8%B1%D9%88%D9%81%D8%B1-%D8%B1%D9%88%D9%85%DB%8C%D8%B2%DB%8C-%D8%B3%D8%A7%D9%85%D8%B3%D9%88%D9%86%DA%AF-%D9%85%D8%AF%D9%84-CE288 HTTP/1.1                  |200        |41725        |-                                                                                                                                                                                                                    |Mozilla/5.0 (X11; Linux x86_64) AppleWebKit/537.36 (KHTML, like Gecko) Chrome/53.0.2785.92 Safari/537.36                                                                                              |-              |\n",
            "|40.77.167.129|22/Jan/2019:03:56:19 +0330|GET /image/6229/productModel/150x150 HTTP/1.1                                                                                                                                                                |200        |2739         |-                                                                                                                                                                                                                    |Mozilla/5.0 (compatible; bingbot/2.0; +http://www.bing.com/bingbot.htm)                                                                                                                               |-              |\n",
            "|207.46.13.136|22/Jan/2019:03:56:19 +0330|GET /product/14926 HTTP/1.1                                                                                                                                                                                  |404        |33617        |-                                                                                                                                                                                                                    |Mozilla/5.0 (compatible; bingbot/2.0; +http://www.bing.com/bingbot.htm)                                                                                                                               |-              |\n",
            "|40.77.167.129|22/Jan/2019:03:56:19 +0330|GET /image/6248/productModel/150x150 HTTP/1.1                                                                                                                                                                |200        |2788         |-                                                                                                                                                                                                                    |Mozilla/5.0 (compatible; bingbot/2.0; +http://www.bing.com/bingbot.htm)                                                                                                                               |-              |\n",
            "|40.77.167.129|22/Jan/2019:03:56:20 +0330|GET /image/64815/productModel/150x150 HTTP/1.1                                                                                                                                                               |200        |3481         |-                                                                                                                                                                                                                    |Mozilla/5.0 (compatible; bingbot/2.0; +http://www.bing.com/bingbot.htm)                                                                                                                               |-              |\n",
            "|66.249.66.194|22/Jan/2019:03:56:20 +0330|GET /m/filter/b2,p6 HTTP/1.1                                                                                                                                                                                 |200        |19451        |-                                                                                                                                                                                                                    |Mozilla/5.0 (Linux; Android 6.0.1; Nexus 5X Build/MMB29P) AppleWebKit/537.36 (KHTML, like Gecko) Chrome/41.0.2272.96 Mobile Safari/537.36 (compatible; Googlebot/2.1; +http://www.google.com/bot.html)|-              |\n",
            "|91.99.72.15  |22/Jan/2019:03:56:20 +0330|GET /product/32798/63266/%DB%8C%D8%AE%DA%86%D8%A7%D9%84-%D9%81%D8%B1%DB%8C%D8%B2%D8%B1-%D8%B3%DB%8C%D9%86%D8%AC%D8%B1-%D9%85%D8%AF%D9%84-pearl-SR7 HTTP/1.1                                                  |200        |40250        |-                                                                                                                                                                                                                    |Mozilla/5.0 (X11; Linux x86_64) AppleWebKit/537.36 (KHTML, like Gecko) Chrome/53.0.2785.92 Safari/537.36                                                                                              |-              |\n",
            "|178.253.33.51|22/Jan/2019:03:56:20 +0330|GET /settings/logo HTTP/1.1                                                                                                                                                                                  |200        |4120         |https://www.zanbil.ir/m/product/32574/62991/%D9%85%D8%A7%D8%B4%DB%8C%D9%86-%D8%A7%D8%B5%D9%84%D8%A7%D8%AD-%D8%B5%D9%88%D8%B1%D8%AA-%D9%BE%D8%B1%D9%86%D8%B3%D9%84%DB%8C-%D9%85%D8%AF%D9%84-PR465AT                   |Mozilla/5.0 (Linux; Android 5.1; HTC Desire 728 dual sim) AppleWebKit/537.36 (KHTML, like Gecko) Chrome/71.0.3578.83 Mobile Safari/537.36                                                             |-              |\n",
            "|66.249.66.91 |22/Jan/2019:03:56:20 +0330|GET /filter/b874%2Cb32%2Cb63%2Cb99%2Cb126%2Cb820%2Cb249%2Cb3%2Cb148%2Cb724%2Cb613%2Cb183%2Cb213%2Cb484%2Cb224%2Cb734%2Cb20%2Cb95%2Cb542%2Cb212%2Cb485%2Cb523%2Cb221%2Cb118%2Cb186%2Cb67?page=4 HTTP/1.1      |200        |39660        |-                                                                                                                                                                                                                    |Mozilla/5.0 (compatible; Googlebot/2.1; +http://www.google.com/bot.html)                                                                                                                              |-              |\n",
            "|31.56.96.51  |22/Jan/2019:03:56:20 +0330|GET /image/60819/productModel/200x200 HTTP/1.1                                                                                                                                                               |200        |7171         |https://www.zanbil.ir/m/filter/b113                                                                                                                                                                                  |Mozilla/5.0 (Linux; Android 6.0; ALE-L21 Build/HuaweiALE-L21) AppleWebKit/537.36 (KHTML, like Gecko) Chrome/66.0.3359.158 Mobile Safari/537.36                                                        |-              |\n",
            "|31.56.96.51  |22/Jan/2019:03:56:20 +0330|GET /image/60847/productModel/200x200 HTTP/1.1                                                                                                                                                               |200        |5667         |https://www.zanbil.ir/m/filter/b113                                                                                                                                                                                  |Mozilla/5.0 (Linux; Android 6.0; ALE-L21 Build/HuaweiALE-L21) AppleWebKit/537.36 (KHTML, like Gecko) Chrome/66.0.3359.158 Mobile Safari/537.36                                                        |-              |\n",
            "|178.253.33.51|22/Jan/2019:03:56:21 +0330|GET /image/32574?name=pr465at.jpg&wh=max HTTP/1.1                                                                                                                                                            |200        |28825        |https://www.zanbil.ir/m/product/32574/62991/%D9%85%D8%A7%D8%B4%DB%8C%D9%86-%D8%A7%D8%B5%D9%84%D8%A7%D8%AD-%D8%B5%D9%88%D8%B1%D8%AA-%D9%BE%D8%B1%D9%86%D8%B3%D9%84%DB%8C-%D9%85%D8%AF%D9%84-PR465AT                   |Mozilla/5.0 (Linux; Android 5.1; HTC Desire 728 dual sim) AppleWebKit/537.36 (KHTML, like Gecko) Chrome/71.0.3578.83 Mobile Safari/537.36                                                             |-              |\n",
            "|5.78.198.52  |22/Jan/2019:03:56:21 +0330|GET /m/product/33978/64784/%DA%AF%D9%88%D8%B4%DB%8C-%D9%85%D9%88%D8%A8%D8%A7%DB%8C%D9%84-%D8%B3%D8%A7%D9%85%D8%B3%D9%88%D9%86%DA%AF-%D9%85%D8%AF%D9%84-Galaxy-A9-%282018%29-Dual-128GB-%28SM-A920%29 HTTP/1.1|200        |21931        |https://www.zanbil.ir/m/browse/cell-phone/%DA%AF%D9%88%D8%B4%DB%8C-%D9%85%D9%88%D8%A8%D8%A7%DB%8C%D9%84                                                                                                              |Mozilla/5.0 (Linux; Android 8.0.0; SAMSUNG SM-G950F Build/R16NW) AppleWebKit/537.36 (KHTML, like Gecko) SamsungBrowser/8.2 Chrome/63.0.3239.111 Mobile Safari/537.36                                  |-              |\n",
            "|178.253.33.51|22/Jan/2019:03:56:21 +0330|GET /image/32574?name=pr465at3.jpg&wh=max HTTP/1.1                                                                                                                                                           |200        |24001        |https://www.zanbil.ir/m/product/32574/62991/%D9%85%D8%A7%D8%B4%DB%8C%D9%86-%D8%A7%D8%B5%D9%84%D8%A7%D8%AD-%D8%B5%D9%88%D8%B1%D8%AA-%D9%BE%D8%B1%D9%86%D8%B3%D9%84%DB%8C-%D9%85%D8%AF%D9%84-PR465AT                   |Mozilla/5.0 (Linux; Android 5.1; HTC Desire 728 dual sim) AppleWebKit/537.36 (KHTML, like Gecko) Chrome/71.0.3578.83 Mobile Safari/537.36                                                             |-              |\n",
            "|207.46.13.136|22/Jan/2019:03:56:21 +0330|GET /product/30649?model=60398 HTTP/1.1                                                                                                                                                                      |200        |41198        |-                                                                                                                                                                                                                    |Mozilla/5.0 (compatible; bingbot/2.0; +http://www.bing.com/bingbot.htm)                                                                                                                               |-              |\n",
            "|91.99.72.15  |22/Jan/2019:03:56:21 +0330|GET /product/7793/9663/%D9%85%D8%A7%DB%8C%DA%A9%D8%B1%D9%88%D9%81%D8%B1-%D8%B1%D9%88%D9%85%DB%8C%D8%B2%DB%8C-%D8%B3%D8%A7%D9%85%D8%B3%D9%88%D9%86%DA%AF-%D9%85%D8%AF%D9%84-ME201 HTTP/1.1                    |200        |40889        |-                                                                                                                                                                                                                    |Mozilla/5.0 (X11; Linux x86_64) AppleWebKit/537.36 (KHTML, like Gecko) Chrome/53.0.2785.92 Safari/537.36                                                                                              |-              |\n",
            "|5.78.198.52  |22/Jan/2019:03:56:22 +0330|GET /settings/logo HTTP/1.1                                                                                                                                                                                  |200        |4120         |https://www.zanbil.ir/m/product/33978/64784/%DA%AF%D9%88%D8%B4%DB%8C-%D9%85%D9%88%D8%A8%D8%A7%DB%8C%D9%84-%D8%B3%D8%A7%D9%85%D8%B3%D9%88%D9%86%DA%AF-%D9%85%D8%AF%D9%84-Galaxy-A9-%282018%29-Dual-128GB-%28SM-A920%29|Mozilla/5.0 (Linux; Android 8.0.0; SAMSUNG SM-G950F Build/R16NW) AppleWebKit/537.36 (KHTML, like Gecko) SamsungBrowser/8.2 Chrome/63.0.3239.111 Mobile Safari/537.36                                  |-              |\n",
            "|66.249.66.194|22/Jan/2019:03:56:22 +0330|GET /m/browse/gas-heater/%D8%A8%D8%AE%D8%A7%D8%B1%DB%8C-%DA%AF%D8%A7%D8%B2%DB%8C HTTP/1.1                                                                                                                    |200        |19162        |-                                                                                                                                                                                                                    |Mozilla/5.0 (Linux; Android 6.0.1; Nexus 5X Build/MMB29P) AppleWebKit/537.36 (KHTML, like Gecko) Chrome/41.0.2272.96 Mobile Safari/537.36 (compatible; Googlebot/2.1; +http://www.google.com/bot.html)|-              |\n",
            "|66.249.66.194|22/Jan/2019:03:56:22 +0330|GET /m/article/608/%D8%B9%D9%84%D8%AA-%D8%B5%D8%AF%D8%A7-%D8%AF%D8%A7%D8%AF%D9%86-%DA%AF%D8%B1%D8%AF%D9%86-%D9%88-%D8%AF%D8%B1%D9%85%D8%A7%D9%86-%D8%A2%D9%86 HTTP/1.1                                       |200        |20785        |-                                                                                                                                                                                                                    |Mozilla/5.0 (Linux; Android 6.0.1; Nexus 5X Build/MMB29P) AppleWebKit/537.36 (KHTML, like Gecko) Chrome/41.0.2272.96 Mobile Safari/537.36 (compatible; Googlebot/2.1; +http://www.google.com/bot.html)|-              |\n",
            "|34.247.132.53|22/Jan/2019:03:56:22 +0330|GET / HTTP/1.1                                                                                                                                                                                               |200        |29619        |-                                                                                                                                                                                                                    |Mozilla/5.0 (Windows NT 10.0; Win64; x64) AppleWebKit/537.36 (KHTML, like Gecko) Chrome/63.0.3239.84 Safari/537.36                                                                                    |-              |\n",
            "|54.36.149.70 |22/Jan/2019:03:56:22 +0330|GET /filter/b215,b400,p5686,v1|%D8%B3%D9%81%DB%8C%D8%AF%20%D8%A8%D9%86%D9%81%D8%B4. HTTP/1.1                                                                                                                 |200        |30673        |-                                                                                                                                                                                                                    |Mozilla/5.0 (compatible; AhrefsBot/6.1; +http://ahrefs.com/robot/)                                                                                                                                    |-              |\n",
            "|2.177.12.140 |22/Jan/2019:03:56:22 +0330|GET /image/61821/productModel/150x150 HTTP/1.1                                                                                                                                                               |200        |6012         |https://www.zanbil.ir/m/product/33606/%D8%AA%D9%84%D9%88%DB%8C%D8%B2%DB%8C%D9%88%D9%86-%D8%A7%D9%84-%D8%A7%DB%8C-%D8%AF%DB%8C-%D8%B3%D8%A7%D9%85%D8%B3%D9%88%D9%86%DA%AF-%D9%85%D8%AF%D9%84-55NU8950-Ultra-HD-4K     |Mozilla/5.0 (Android 7.1.1; Mobile; rv:64.0) Gecko/64.0 Firefox/64.0                                                                                                                                  |-              |\n",
            "|2.177.12.140 |22/Jan/2019:03:56:22 +0330|GET /image/64500/productModel/150x150 HTTP/1.1                                                                                                                                                               |200        |4890         |https://www.zanbil.ir/m/product/33606/%D8%AA%D9%84%D9%88%DB%8C%D8%B2%DB%8C%D9%88%D9%86-%D8%A7%D9%84-%D8%A7%DB%8C-%D8%AF%DB%8C-%D8%B3%D8%A7%D9%85%D8%B3%D9%88%D9%86%DA%AF-%D9%85%D8%AF%D9%84-55NU8950-Ultra-HD-4K     |Mozilla/5.0 (Android 7.1.1; Mobile; rv:64.0) Gecko/64.0 Firefox/64.0                                                                                                                                  |-              |\n",
            "|2.177.12.140 |22/Jan/2019:03:56:22 +0330|GET /image/64643/productModel/150x150 HTTP/1.1                                                                                                                                                               |200        |5303         |https://www.zanbil.ir/m/product/33606/%D8%AA%D9%84%D9%88%DB%8C%D8%B2%DB%8C%D9%88%D9%86-%D8%A7%D9%84-%D8%A7%DB%8C-%D8%AF%DB%8C-%D8%B3%D8%A7%D9%85%D8%B3%D9%88%D9%86%DA%AF-%D9%85%D8%AF%D9%84-55NU8950-Ultra-HD-4K     |Mozilla/5.0 (Android 7.1.1; Mobile; rv:64.0) Gecko/64.0 Firefox/64.0                                                                                                                                  |-              |\n",
            "|178.253.33.51|22/Jan/2019:03:56:23 +0330|GET /image/32574?name=pr465at1.jpg&wh=max HTTP/1.1                                                                                                                                                           |200        |47078        |https://www.zanbil.ir/m/product/32574/62991/%D9%85%D8%A7%D8%B4%DB%8C%D9%86-%D8%A7%D8%B5%D9%84%D8%A7%D8%AD-%D8%B5%D9%88%D8%B1%D8%AA-%D9%BE%D8%B1%D9%86%D8%B3%D9%84%DB%8C-%D9%85%D8%AF%D9%84-PR465AT                   |Mozilla/5.0 (Linux; Android 5.1; HTC Desire 728 dual sim) AppleWebKit/537.36 (KHTML, like Gecko) Chrome/71.0.3578.83 Mobile Safari/537.36                                                             |-              |\n",
            "|66.249.66.194|22/Jan/2019:03:56:23 +0330|GET /product/81900 HTTP/1.1                                                                                                                                                                                  |404        |32278        |-                                                                                                                                                                                                                    |Mozilla/5.0 (compatible; Googlebot/2.1; +http://www.google.com/bot.html)                                                                                                                              |-              |\n",
            "|2.177.12.140 |22/Jan/2019:03:56:23 +0330|GET /image/32703/productType/120x90 HTTP/1.1                                                                                                                                                                 |200        |13303        |https://www.zanbil.ir/m/product/33606/%D8%AA%D9%84%D9%88%DB%8C%D8%B2%DB%8C%D9%88%D9%86-%D8%A7%D9%84-%D8%A7%DB%8C-%D8%AF%DB%8C-%D8%B3%D8%A7%D9%85%D8%B3%D9%88%D9%86%DA%AF-%D9%85%D8%AF%D9%84-55NU8950-Ultra-HD-4K     |Mozilla/5.0 (Android 7.1.1; Mobile; rv:64.0) Gecko/64.0 Firefox/64.0                                                                                                                                  |-              |\n",
            "|2.177.12.140 |22/Jan/2019:03:56:23 +0330|GET /image/66/productType/120x90 HTTP/1.1                                                                                                                                                                    |200        |10840        |https://www.zanbil.ir/m/product/33606/%D8%AA%D9%84%D9%88%DB%8C%D8%B2%DB%8C%D9%88%D9%86-%D8%A7%D9%84-%D8%A7%DB%8C-%D8%AF%DB%8C-%D8%B3%D8%A7%D9%85%D8%B3%D9%88%D9%86%DA%AF-%D9%85%D8%AF%D9%84-55NU8950-Ultra-HD-4K     |Mozilla/5.0 (Android 7.1.1; Mobile; rv:64.0) Gecko/64.0 Firefox/64.0                                                                                                                                  |-              |\n",
            "|178.253.33.51|22/Jan/2019:03:56:24 +0330|GET /image/32574?name=pr465at2.jpg&wh=max HTTP/1.1                                                                                                                                                           |200        |46807        |https://www.zanbil.ir/m/product/32574/62991/%D9%85%D8%A7%D8%B4%DB%8C%D9%86-%D8%A7%D8%B5%D9%84%D8%A7%D8%AD-%D8%B5%D9%88%D8%B1%D8%AA-%D9%BE%D8%B1%D9%86%D8%B3%D9%84%DB%8C-%D9%85%D8%AF%D9%84-PR465AT                   |Mozilla/5.0 (Linux; Android 5.1; HTC Desire 728 dual sim) AppleWebKit/537.36 (KHTML, like Gecko) Chrome/71.0.3578.83 Mobile Safari/537.36                                                             |-              |\n",
            "|2.177.12.140 |22/Jan/2019:03:56:24 +0330|GET /static/images/amp/blog.png HTTP/1.1                                                                                                                                                                     |200        |3863         |https://www.zanbil.ir/m/product/33606/%D8%AA%D9%84%D9%88%DB%8C%D8%B2%DB%8C%D9%88%D9%86-%D8%A7%D9%84-%D8%A7%DB%8C-%D8%AF%DB%8C-%D8%B3%D8%A7%D9%85%D8%B3%D9%88%D9%86%DA%AF-%D9%85%D8%AF%D9%84-55NU8950-Ultra-HD-4K     |Mozilla/5.0 (Android 7.1.1; Mobile; rv:64.0) Gecko/64.0 Firefox/64.0                                                                                                                                  |-              |\n",
            "|2.177.12.140 |22/Jan/2019:03:56:24 +0330|GET /static/images/amp/instagram.png HTTP/1.1                                                                                                                                                                |200        |7146         |https://www.zanbil.ir/m/product/33606/%D8%AA%D9%84%D9%88%DB%8C%D8%B2%DB%8C%D9%88%D9%86-%D8%A7%D9%84-%D8%A7%DB%8C-%D8%AF%DB%8C-%D8%B3%D8%A7%D9%85%D8%B3%D9%88%D9%86%DA%AF-%D9%85%D8%AF%D9%84-55NU8950-Ultra-HD-4K     |Mozilla/5.0 (Android 7.1.1; Mobile; rv:64.0) Gecko/64.0 Firefox/64.0                                                                                                                                  |-              |\n",
            "|2.177.12.140 |22/Jan/2019:03:56:24 +0330|GET /static/images/amp/telegram.png HTTP/1.1                                                                                                                                                                 |200        |4859         |https://www.zanbil.ir/m/product/33606/%D8%AA%D9%84%D9%88%DB%8C%D8%B2%DB%8C%D9%88%D9%86-%D8%A7%D9%84-%D8%A7%DB%8C-%D8%AF%DB%8C-%D8%B3%D8%A7%D9%85%D8%B3%D9%88%D9%86%DA%AF-%D9%85%D8%AF%D9%84-55NU8950-Ultra-HD-4K     |Mozilla/5.0 (Android 7.1.1; Mobile; rv:64.0) Gecko/64.0 Firefox/64.0                                                                                                                                  |-              |\n",
            "|66.249.66.91 |22/Jan/2019:03:56:24 +0330|GET /image/63014/productModel/100x100 HTTP/1.1                                                                                                                                                               |200        |2573         |-                                                                                                                                                                                                                    |Googlebot-Image/1.0                                                                                                                                                                                   |-              |\n",
            "|2.177.12.140 |22/Jan/2019:03:56:25 +0330|GET /static/images/amp/third-party/footer-mobile.png HTTP/1.1                                                                                                                                                |200        |62894        |https://www.zanbil.ir/m/product/33606/%D8%AA%D9%84%D9%88%DB%8C%D8%B2%DB%8C%D9%88%D9%86-%D8%A7%D9%84-%D8%A7%DB%8C-%D8%AF%DB%8C-%D8%B3%D8%A7%D9%85%D8%B3%D9%88%D9%86%DA%AF-%D9%85%D8%AF%D9%84-55NU8950-Ultra-HD-4K     |Mozilla/5.0 (Android 7.1.1; Mobile; rv:64.0) Gecko/64.0 Firefox/64.0                                                                                                                                  |-              |\n",
            "|2.177.12.140 |22/Jan/2019:03:56:25 +0330|GET /image/33618/productType/120x90 HTTP/1.1                                                                                                                                                                 |200        |10695        |https://www.zanbil.ir/m/product/33606/%D8%AA%D9%84%D9%88%DB%8C%D8%B2%DB%8C%D9%88%D9%86-%D8%A7%D9%84-%D8%A7%DB%8C-%D8%AF%DB%8C-%D8%B3%D8%A7%D9%85%D8%B3%D9%88%D9%86%DA%AF-%D9%85%D8%AF%D9%84-55NU8950-Ultra-HD-4K     |Mozilla/5.0 (Android 7.1.1; Mobile; rv:64.0) Gecko/64.0 Firefox/64.0                                                                                                                                  |-              |\n",
            "|2.177.12.140 |22/Jan/2019:03:56:25 +0330|GET /image/64272/productModel/150x150 HTTP/1.1                                                                                                                                                               |200        |3768         |https://www.zanbil.ir/m/product/33606/%D8%AA%D9%84%D9%88%DB%8C%D8%B2%DB%8C%D9%88%D9%86-%D8%A7%D9%84-%D8%A7%DB%8C-%D8%AF%DB%8C-%D8%B3%D8%A7%D9%85%D8%B3%D9%88%D9%86%DA%AF-%D9%85%D8%AF%D9%84-55NU8950-Ultra-HD-4K     |Mozilla/5.0 (Android 7.1.1; Mobile; rv:64.0) Gecko/64.0 Firefox/64.0                                                                                                                                  |-              |\n",
            "+-------------+--------------------------+-------------------------------------------------------------------------------------------------------------------------------------------------------------------------------------------------------------+-----------+-------------+---------------------------------------------------------------------------------------------------------------------------------------------------------------------------------------------------------------------+------------------------------------------------------------------------------------------------------------------------------------------------------------------------------------------------------+---------------+\n",
            "only showing top 50 rows\n",
            "\n"
          ]
        }
      ],
      "source": [
        "from pyspark.sql import SparkSession\n",
        "from pyspark.sql.functions import regexp_extract\n",
        "\n",
        "# Khởi tạo SparkSessi on\n",
        "spark = SparkSession.builder \\\n",
        "    .appName(\"LogAnalysis\") \\\n",
        "    .getOrCreate()\n",
        "\n",
        "# Đường dẫn đến file logs\n",
        "log_file_path = \"/content/drive/MyDrive/Colab Notebooks/Dữ liệu lớn/Đồ án/Datalog/access.log\"\n",
        "\n",
        "# Biểu thức regex để trích xuất thông tin từ dòng log\n",
        "log_regex = r'^(\\S+) - - \\[(.*?)\\] \"(.*?)\" (\\d+) (\\d+|-) \"(.*?)\" \"(.*?)\" \"(.*?)\"$'\n",
        "\n",
        "# Đọc dữ liệu từ file logs vào DataFrame và phân tích các trường thông tin\n",
        "parsed_logs_df = spark.read.text(log_file_path).select(\n",
        "    regexp_extract('value', log_regex, 1).alias('ip_address'),\n",
        "    regexp_extract('value', log_regex, 2).alias('timestamp'),\n",
        "    regexp_extract('value', log_regex, 3).alias('request'),\n",
        "    regexp_extract('value', log_regex, 4).alias('status_code'),\n",
        "    regexp_extract('value', log_regex, 5).alias('response_size'),\n",
        "    regexp_extract('value', log_regex, 6).alias('referrer'),\n",
        "    regexp_extract('value', log_regex, 7).alias('user_agent'),\n",
        "    regexp_extract('value', log_regex, 8).alias('additional_info')\n",
        ")\n",
        "\n",
        "# Hiển thị DataFrame sau khi đã phân tích các trường thông tin\n",
        "parsed_logs_df.show(50,truncate=False)"
      ]
    },
    {
      "cell_type": "code",
      "source": [
        "# Hiển thị số lượng dòng và cột trong DataFrame\n",
        "print(\"Số lượng dòng và cột trong DataFrame:\")\n",
        "print((parsed_logs_df.count(), len(parsed_logs_df.columns)))"
      ],
      "metadata": {
        "colab": {
          "base_uri": "https://localhost:8080/",
          "height": 193
        },
        "id": "M8ZDxXNJhXhw",
        "outputId": "df4eb603-f777-4a8c-bb41-813741a1a58a"
      },
      "execution_count": null,
      "outputs": [
        {
          "output_type": "stream",
          "name": "stdout",
          "text": [
            "Số lượng dòng và cột trong DataFrame:\n"
          ]
        },
        {
          "output_type": "error",
          "ename": "NameError",
          "evalue": "name 'parsed_logs_df' is not defined",
          "traceback": [
            "\u001b[0;31m---------------------------------------------------------------------------\u001b[0m",
            "\u001b[0;31mNameError\u001b[0m                                 Traceback (most recent call last)",
            "\u001b[0;32m<ipython-input-1-f9e97bef75ed>\u001b[0m in \u001b[0;36m<cell line: 3>\u001b[0;34m()\u001b[0m\n\u001b[1;32m      1\u001b[0m \u001b[0;31m# Hiển thị số lượng dòng và cột trong DataFrame\u001b[0m\u001b[0;34m\u001b[0m\u001b[0;34m\u001b[0m\u001b[0m\n\u001b[1;32m      2\u001b[0m \u001b[0mprint\u001b[0m\u001b[0;34m(\u001b[0m\u001b[0;34m\"Số lượng dòng và cột trong DataFrame:\"\u001b[0m\u001b[0;34m)\u001b[0m\u001b[0;34m\u001b[0m\u001b[0;34m\u001b[0m\u001b[0m\n\u001b[0;32m----> 3\u001b[0;31m \u001b[0mprint\u001b[0m\u001b[0;34m(\u001b[0m\u001b[0;34m(\u001b[0m\u001b[0mparsed_logs_df\u001b[0m\u001b[0;34m.\u001b[0m\u001b[0mcount\u001b[0m\u001b[0;34m(\u001b[0m\u001b[0;34m)\u001b[0m\u001b[0;34m,\u001b[0m \u001b[0mlen\u001b[0m\u001b[0;34m(\u001b[0m\u001b[0mparsed_logs_df\u001b[0m\u001b[0;34m.\u001b[0m\u001b[0mcolumns\u001b[0m\u001b[0;34m)\u001b[0m\u001b[0;34m)\u001b[0m\u001b[0;34m)\u001b[0m\u001b[0;34m\u001b[0m\u001b[0;34m\u001b[0m\u001b[0m\n\u001b[0m",
            "\u001b[0;31mNameError\u001b[0m: name 'parsed_logs_df' is not defined"
          ]
        }
      ]
    },
    {
      "cell_type": "code",
      "source": [
        "# Mô tả dữ liệu\n",
        "print(\"Mô tả dữ liệu:\")\n",
        "parsed_logs_df.describe().show()"
      ],
      "metadata": {
        "colab": {
          "base_uri": "https://localhost:8080/",
          "height": 193
        },
        "id": "Nw5KeSvrk3_w",
        "outputId": "919d68a3-345f-4289-d0fa-0d9273632978"
      },
      "execution_count": null,
      "outputs": [
        {
          "output_type": "stream",
          "name": "stdout",
          "text": [
            "Mô tả dữ liệu:\n"
          ]
        },
        {
          "output_type": "error",
          "ename": "NameError",
          "evalue": "name 'parsed_logs_df' is not defined",
          "traceback": [
            "\u001b[0;31m---------------------------------------------------------------------------\u001b[0m",
            "\u001b[0;31mNameError\u001b[0m                                 Traceback (most recent call last)",
            "\u001b[0;32m<ipython-input-2-db6b0ee7cfe2>\u001b[0m in \u001b[0;36m<cell line: 3>\u001b[0;34m()\u001b[0m\n\u001b[1;32m      1\u001b[0m \u001b[0;31m# Mô tả dữ liệu\u001b[0m\u001b[0;34m\u001b[0m\u001b[0;34m\u001b[0m\u001b[0m\n\u001b[1;32m      2\u001b[0m \u001b[0mprint\u001b[0m\u001b[0;34m(\u001b[0m\u001b[0;34m\"Mô tả dữ liệu:\"\u001b[0m\u001b[0;34m)\u001b[0m\u001b[0;34m\u001b[0m\u001b[0;34m\u001b[0m\u001b[0m\n\u001b[0;32m----> 3\u001b[0;31m \u001b[0mparsed_logs_df\u001b[0m\u001b[0;34m.\u001b[0m\u001b[0mdescribe\u001b[0m\u001b[0;34m(\u001b[0m\u001b[0;34m)\u001b[0m\u001b[0;34m.\u001b[0m\u001b[0mshow\u001b[0m\u001b[0;34m(\u001b[0m\u001b[0;34m)\u001b[0m\u001b[0;34m\u001b[0m\u001b[0;34m\u001b[0m\u001b[0m\n\u001b[0m",
            "\u001b[0;31mNameError\u001b[0m: name 'parsed_logs_df' is not defined"
          ]
        }
      ]
    },
    {
      "cell_type": "code",
      "source": [
        "# Phân phối dữ liệu theo cột status_code\n",
        "print(\"Phân phối dữ liệu theo cột status_code:\")\n",
        "parsed_logs_df.groupBy('status_code').count().show()"
      ],
      "metadata": {
        "id": "UP-M36mXlreN"
      },
      "execution_count": null,
      "outputs": []
    },
    {
      "cell_type": "code",
      "source": [
        "# Tần suất của mỗi giá trị trong cột status_code\n",
        "print(\"Tần suất của mỗi giá trị trong cột status_code:\")\n",
        "parsed_logs_df.groupBy('status_code').count().orderBy('count', ascending=False).show()"
      ],
      "metadata": {
        "id": "tYMos1BZlts7"
      },
      "execution_count": null,
      "outputs": []
    },
    {
      "cell_type": "code",
      "source": [
        "# Vẽ biểu đồ trực quan hóa\n",
        "import matplotlib.pyplot as plt\n",
        "\n",
        "# Biểu đồ phân phối dữ liệu theo cột status_code\n",
        "status_code_counts = parsed_logs_df.groupBy('status_code').count().toPandas()\n",
        "status_code_counts.plot(kind='bar', x='status_code', y='count', title='Phân phối dữ liệu theo status_code')\n",
        "plt.xlabel('Status Code')\n",
        "plt.ylabel('Count')\n",
        "plt.show()"
      ],
      "metadata": {
        "id": "zP88b1UOlwff"
      },
      "execution_count": null,
      "outputs": []
    }
  ]
}